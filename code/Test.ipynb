{
 "cells": [
  {
   "cell_type": "code",
   "execution_count": 2,
   "metadata": {},
   "outputs": [],
   "source": [
    "from nbmultitask import ThreadWithLogAndControls"
   ]
  },
  {
   "cell_type": "code",
   "execution_count": 33,
   "metadata": {
    "scrolled": true
   },
   "outputs": [
    {
     "name": "stdout",
     "output_type": "stream",
     "text": [
      "The autoreload extension is already loaded. To reload it, use:\n",
      "  %reload_ext autoreload\n"
     ]
    }
   ],
   "source": [
    "from threading import Thread\n",
    "import audio\n",
    "import video\n",
    "import nlp\n",
    "import time\n",
    "%load_ext autoreload\n",
    "%autoreload 2"
   ]
  },
  {
   "cell_type": "code",
   "execution_count": 35,
   "metadata": {},
   "outputs": [
    {
     "name": "stdout",
     "output_type": "stream",
     "text": [
      "FORMAT: 8 \n",
      "CHANNELS: 1 \n",
      "RATE: 16000\n",
      "hello\n"
     ]
    }
   ],
   "source": [
    "A.playWav()\n",
    "print(\"hello\")"
   ]
  },
  {
   "cell_type": "code",
   "execution_count": 32,
   "metadata": {},
   "outputs": [
    {
     "name": "stdout",
     "output_type": "stream",
     "text": [
      "FORMAT: 8 \n",
      "CHANNELS: 1 \n",
      "RATE: 16000\n"
     ]
    }
   ],
   "source": [
    "nlp.text2sound(\"孙猴子！\")\n",
    "A.playWav()"
   ]
  },
  {
   "cell_type": "code",
   "execution_count": 25,
   "metadata": {},
   "outputs": [
    {
     "name": "stdout",
     "output_type": "stream",
     "text": [
      "FORMAT: 8 \n",
      "CHANNELS: 1 \n",
      "RATE: 16000\n"
     ]
    }
   ],
   "source": [
    "A = audio.Audio(600)\n",
    "A.streamStart()\n",
    "A.playWav(\"audio/record.wav\")"
   ]
  },
  {
   "cell_type": "code",
   "execution_count": 3,
   "metadata": {},
   "outputs": [],
   "source": [
    "g_audio_record_start = False\n",
    "g_audio_available = False\n",
    "g_emotion = None\n",
    "g_emotion_captured = False\n",
    "g_listen_lock = False\n",
    "\n",
    "def capture():\n",
    "    global g_emotion\n",
    "    global g_emotion_captured \n",
    "    g_emotion_captured = False\n",
    "    for i in range(5):\n",
    "        print(\"trying to analyze emotions.. attempt \" + str(i))\n",
    "        frame = C.shoot_test('o.jpg')\n",
    "        e = P.emotion_dect(frame)\n",
    "        if e != None:\n",
    "            g_emotion = e\n",
    "            g_emotion_captured = True\n",
    "            return \n",
    "    print(\"fail to dect emotions\")\n",
    "\n",
    "def listen():\n",
    "    global g_audio_record_start\n",
    "    global g_audio_available\n",
    "    while 1:\n",
    "        if A.state == 'silent' and g_listen_lock == False:\n",
    "            A.waiting()\n",
    "            g_audio_record_start = True\n",
    "        elif A.state == 'recording' and g_listen_lock == False:\n",
    "            A.record()\n",
    "            g_audio_record_start = False\n",
    "            g_audio_available = True"
   ]
  },
  {
   "cell_type": "code",
   "execution_count": null,
   "metadata": {},
   "outputs": [
    {
     "name": "stdout",
     "output_type": "stream",
     "text": [
      "start recording...\n",
      "trying to analyze emotions.. attempt 0\n",
      "state chanegd to recording\n",
      "silent...10\n",
      "silent...10\n",
      "silent...20\n",
      "silent...30\n",
      "record session closed.\n",
      "wave saved...\n",
      "start stt...\n",
      "stt done. state changed to processing\n",
      "你好\n",
      "emotion analyze time cost 1.8489775657653809\n",
      "你好，以后请多指教\n",
      "back to waitingstart recording...\n",
      "\n",
      "trying to analyze emotions.. attempt 0\n",
      "state chanegd to recording\n",
      "emotion analyze time cost 0.055780649185180664\n",
      "silent...10\n",
      "silent...10\n",
      "silent...10\n",
      "silent...20\n",
      "silent...30\n",
      "record session closed.\n",
      "wave saved...\n",
      "start stt...\n",
      "start recording...\n",
      "silent...10\n",
      "stt done. state changed to processing\n",
      "True\n",
      "你好\n",
      "好吧，你也好。\n",
      "silent...10\n",
      "silent...20\n",
      "back to waiting\n",
      "trying to analyze emotions.. attempt 0state chanegd to recording\n",
      "\n",
      "emotion analyze time cost 0.0959162712097168\n",
      "silent...10\n",
      "silent...20\n",
      "silent...10\n",
      "silent...10\n",
      "silent...10\n",
      "silent...20\n",
      "silent...30\n",
      "record session closed.\n",
      "wave saved...\n",
      "start stt...\n",
      "stt done. state changed to processing\n",
      "True\n",
      "你好\n",
      "你也好～\n",
      "back to waitingstart recording...\n",
      "\n",
      "trying to analyze emotions.. attempt 0state chanegd to recording\n",
      "\n",
      "emotion analyze time cost 0.07072281837463379\n",
      "silent...10\n",
      "silent...10\n",
      "silent...10\n",
      "silent...20\n",
      "silent...10\n",
      "silent...20\n"
     ]
    }
   ],
   "source": [
    "C = video.Camera()\n",
    "P = video.PA()        \n",
    "A = audio.Audio(600)\n",
    "A.streamStart()\n",
    "\n",
    "T_audio = Thread(target = listen)\n",
    "T_audio.start()\n",
    "\n",
    "state = 'waiting'\n",
    "while 1:\n",
    "    if state == 'waiting':\n",
    "        if g_audio_record_start == True:\n",
    "            T_video = Thread(target = capture)\n",
    "            T_video.start()\n",
    "            state = 'recording'\n",
    "            print(\"state chanegd to recording\")\n",
    "    \n",
    "    if state == 'recording':\n",
    "        if g_audio_available == True:\n",
    "            g_audio_available = False\n",
    "            print(\"start stt...\")\n",
    "            g_listen_lock = True\n",
    "#             text = nlp.sound2text(A.file_path)\n",
    "            time.sleep(0.4)\n",
    "            print(\"stt done. state changed to processing\")\n",
    "            state = 'processing'\n",
    "    \n",
    "    if state == 'processing':\n",
    "        if g_emotion_captured == True:\n",
    "            print(g_emotion_captured)\n",
    "#         text = text\n",
    "        text = '你好'\n",
    "        re_text = nlp.tuling(text)\n",
    "        state = 'reply'\n",
    "    \n",
    "    if state == 'reply':\n",
    "#         nlp.text2sound(re_text)\n",
    "#         speek\n",
    "        time.sleep(0.4)\n",
    "        state = 'waiting'\n",
    "        g_listen_lock = False\n",
    "        print(\"back to waiting\")"
   ]
  },
  {
   "cell_type": "code",
   "execution_count": null,
   "metadata": {},
   "outputs": [],
   "source": []
  }
 ],
 "metadata": {
  "hide_input": false,
  "kernelspec": {
   "display_name": "Python 3",
   "language": "python",
   "name": "python3"
  },
  "language_info": {
   "codemirror_mode": {
    "name": "ipython",
    "version": 3
   },
   "file_extension": ".py",
   "mimetype": "text/x-python",
   "name": "python",
   "nbconvert_exporter": "python",
   "pygments_lexer": "ipython3",
   "version": "3.7.3"
  },
  "toc": {
   "base_numbering": 1,
   "nav_menu": {},
   "number_sections": true,
   "sideBar": true,
   "skip_h1_title": false,
   "title_cell": "Table of Contents",
   "title_sidebar": "Contents",
   "toc_cell": false,
   "toc_position": {},
   "toc_section_display": true,
   "toc_window_display": false
  }
 },
 "nbformat": 4,
 "nbformat_minor": 2
}
